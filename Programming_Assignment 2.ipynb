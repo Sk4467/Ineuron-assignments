{
 "cells": [
  {
   "cell_type": "markdown",
   "id": "0406fcc7",
   "metadata": {},
   "source": [
    "## 1.Write a Python program to convert kilometers to miles?"
   ]
  },
  {
   "cell_type": "code",
   "execution_count": 1,
   "id": "21b2fcd8",
   "metadata": {},
   "outputs": [],
   "source": [
    "def DistanceConverter():\n",
    "    K=int(input(\"Enter kilometers: \" ))\n",
    "    M= K*0.621327\n",
    "    return (K,'kilometers in miles is' , M)"
   ]
  },
  {
   "cell_type": "code",
   "execution_count": 2,
   "id": "ee625190",
   "metadata": {},
   "outputs": [
    {
     "name": "stdout",
     "output_type": "stream",
     "text": [
      "Enter kilometers: 200\n"
     ]
    },
    {
     "data": {
      "text/plain": [
       "(200, 'kilometers in miles is', 124.2654)"
      ]
     },
     "execution_count": 2,
     "metadata": {},
     "output_type": "execute_result"
    }
   ],
   "source": [
    "DistanceConverter()"
   ]
  },
  {
   "cell_type": "markdown",
   "id": "0496cadb",
   "metadata": {},
   "source": [
    "## 2. Write a Python program to convert Celsius to Fahrenheit?"
   ]
  },
  {
   "cell_type": "code",
   "execution_count": 3,
   "id": "ba2654b7",
   "metadata": {},
   "outputs": [],
   "source": [
    "def TempConverter():\n",
    "    C=int(input(\"Enter Celcius: \" ))\n",
    "    F= (C*9/5)+32\n",
    "    return (C,'degree Celcius in fahrenheit is' , F)"
   ]
  },
  {
   "cell_type": "code",
   "execution_count": 4,
   "id": "8706b64e",
   "metadata": {},
   "outputs": [
    {
     "name": "stdout",
     "output_type": "stream",
     "text": [
      "Enter Celcius: 0\n"
     ]
    },
    {
     "data": {
      "text/plain": [
       "(0, 'degree Celcius in fahrenheit is', 32.0)"
      ]
     },
     "execution_count": 4,
     "metadata": {},
     "output_type": "execute_result"
    }
   ],
   "source": [
    "TempConverter()"
   ]
  },
  {
   "cell_type": "markdown",
   "id": "9dee18a4",
   "metadata": {},
   "source": [
    "## 3. Write a Python program to display calendar?"
   ]
  },
  {
   "cell_type": "code",
   "execution_count": 3,
   "id": "3dc22757",
   "metadata": {},
   "outputs": [],
   "source": [
    "import calendar\n",
    "def Celander():\n",
    "    year=22\n",
    "    month=6\n",
    "    print( calendar.month(year,month))"
   ]
  },
  {
   "cell_type": "code",
   "execution_count": 4,
   "id": "7d80836f",
   "metadata": {},
   "outputs": [
    {
     "name": "stdout",
     "output_type": "stream",
     "text": [
      "      June 22\n",
      "Mo Tu We Th Fr Sa Su\n",
      "       1  2  3  4  5\n",
      " 6  7  8  9 10 11 12\n",
      "13 14 15 16 17 18 19\n",
      "20 21 22 23 24 25 26\n",
      "27 28 29 30\n",
      "\n"
     ]
    }
   ],
   "source": [
    "Celander()"
   ]
  },
  {
   "cell_type": "markdown",
   "id": "1372f249",
   "metadata": {},
   "source": [
    "## 4. Write a Python program to solve quadratic equation?"
   ]
  },
  {
   "cell_type": "code",
   "execution_count": 7,
   "id": "76d70b60",
   "metadata": {},
   "outputs": [],
   "source": [
    "import math \n",
    "def QuadSolver():\n",
    "    A=int(input('Enter x^2 Coefficient:' ))\n",
    "    B=int(input('Enter x Coefficient:' ))\n",
    "    C=int(input('Enter the constant:' ))\n",
    "    Root2=((-B)+(math.sqrt((B**2)-4*A*C)))/(2*A)\n",
    "    Root1=((-B)-(math.sqrt((B**2)-4*A*C)))/(2*A)\n",
    "    return Root1 , Root2"
   ]
  },
  {
   "cell_type": "code",
   "execution_count": 8,
   "id": "f5b490cf",
   "metadata": {},
   "outputs": [
    {
     "name": "stdout",
     "output_type": "stream",
     "text": [
      "Enter x^2 Coefficient:1\n",
      "Enter x Coefficient:-2\n",
      "Enter the constant:1\n"
     ]
    },
    {
     "data": {
      "text/plain": [
       "(1.0, 1.0)"
      ]
     },
     "execution_count": 8,
     "metadata": {},
     "output_type": "execute_result"
    }
   ],
   "source": [
    "QuadSolver()"
   ]
  },
  {
   "cell_type": "markdown",
   "id": "62879db8",
   "metadata": {},
   "source": [
    "## 5. Write a Python program to swap two variables without temp variable?"
   ]
  },
  {
   "cell_type": "code",
   "execution_count": 9,
   "id": "3047d92a",
   "metadata": {},
   "outputs": [],
   "source": [
    "def swap():\n",
    "    x=int(input('Enter x'))\n",
    "    y=int(input('Enter y'))\n",
    "    print ('Before Swapping',x,y)\n",
    "    x=x+y\n",
    "    y=x-y\n",
    "    x=x-y\n",
    "    return ('After Swapping',x,y)"
   ]
  },
  {
   "cell_type": "code",
   "execution_count": 10,
   "id": "7c0ae8ba",
   "metadata": {},
   "outputs": [
    {
     "name": "stdout",
     "output_type": "stream",
     "text": [
      "Enter x28\n",
      "Enter y32\n",
      "Before Swapping 28 32\n"
     ]
    },
    {
     "data": {
      "text/plain": [
       "('After Swapping', 32, 28)"
      ]
     },
     "execution_count": 10,
     "metadata": {},
     "output_type": "execute_result"
    }
   ],
   "source": [
    "swap()"
   ]
  },
  {
   "cell_type": "code",
   "execution_count": null,
   "id": "f664ee79",
   "metadata": {},
   "outputs": [],
   "source": []
  }
 ],
 "metadata": {
  "kernelspec": {
   "display_name": "Python 3 (ipykernel)",
   "language": "python",
   "name": "python3"
  },
  "language_info": {
   "codemirror_mode": {
    "name": "ipython",
    "version": 3
   },
   "file_extension": ".py",
   "mimetype": "text/x-python",
   "name": "python",
   "nbconvert_exporter": "python",
   "pygments_lexer": "ipython3",
   "version": "3.9.7"
  }
 },
 "nbformat": 4,
 "nbformat_minor": 5
}
