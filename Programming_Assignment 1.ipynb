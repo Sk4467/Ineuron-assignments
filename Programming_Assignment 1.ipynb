{
 "cells": [
  {
   "cell_type": "markdown",
   "id": "2b5f1b26",
   "metadata": {},
   "source": [
    "## 1. Write a Python program to print &quot;Hello Python&quot;?"
   ]
  },
  {
   "cell_type": "code",
   "execution_count": 2,
   "id": "1a957c70",
   "metadata": {},
   "outputs": [],
   "source": [
    "def Print():\n",
    "    Word=input('Give word \\n')\n",
    "    return Word"
   ]
  },
  {
   "cell_type": "code",
   "execution_count": 4,
   "id": "951080e1",
   "metadata": {},
   "outputs": [
    {
     "name": "stdout",
     "output_type": "stream",
     "text": [
      "Give word \n",
      "Hello Python\n"
     ]
    },
    {
     "data": {
      "text/plain": [
       "'Hello Python'"
      ]
     },
     "execution_count": 4,
     "metadata": {},
     "output_type": "execute_result"
    }
   ],
   "source": [
    "Print()"
   ]
  },
  {
   "cell_type": "markdown",
   "id": "3425e889",
   "metadata": {},
   "source": [
    "## 2. Write a Python program to do arithmetical operations addition and division.?"
   ]
  },
  {
   "cell_type": "code",
   "execution_count": 7,
   "id": "669fff20",
   "metadata": {},
   "outputs": [],
   "source": [
    "def Addition():\n",
    "    int1=int(input('give int1 \\n'))\n",
    "    int2=int(input('give int2 \\n'))\n",
    "    return int1+int2\n",
    "def Division(int1,int2):\n",
    "    try:\n",
    "        return int1/int2\n",
    "    except:\n",
    "        print('''int2 can't be zero''' )"
   ]
  },
  {
   "cell_type": "code",
   "execution_count": 8,
   "id": "da3b38ff",
   "metadata": {},
   "outputs": [
    {
     "name": "stdout",
     "output_type": "stream",
     "text": [
      "give int1 \n",
      "4\n",
      "give int2 \n",
      "6\n"
     ]
    },
    {
     "data": {
      "text/plain": [
       "10"
      ]
     },
     "execution_count": 8,
     "metadata": {},
     "output_type": "execute_result"
    }
   ],
   "source": [
    "Addition()"
   ]
  },
  {
   "cell_type": "code",
   "execution_count": 5,
   "id": "60ec7003",
   "metadata": {},
   "outputs": [
    {
     "data": {
      "text/plain": [
       "5.0"
      ]
     },
     "execution_count": 5,
     "metadata": {},
     "output_type": "execute_result"
    }
   ],
   "source": [
    "Division(25,5)"
   ]
  },
  {
   "cell_type": "code",
   "execution_count": 6,
   "id": "60599624",
   "metadata": {},
   "outputs": [
    {
     "name": "stdout",
     "output_type": "stream",
     "text": [
      "int2 can't be zero\n"
     ]
    }
   ],
   "source": [
    "Division(24,0)"
   ]
  },
  {
   "cell_type": "markdown",
   "id": "df2620bd",
   "metadata": {},
   "source": [
    "## 3. Write a Python program to find the area of a triangle?"
   ]
  },
  {
   "cell_type": "code",
   "execution_count": 10,
   "id": "912305ac",
   "metadata": {},
   "outputs": [],
   "source": [
    "def AreaofTriangle():\n",
    "    base=int(input('Give value for base \\n'))\n",
    "    Height=int(input('Give value for Height \\n'))\n",
    "    return 1/2*base*Height"
   ]
  },
  {
   "cell_type": "code",
   "execution_count": 22,
   "id": "a5296720",
   "metadata": {},
   "outputs": [
    {
     "name": "stdout",
     "output_type": "stream",
     "text": [
      "Give value for base40\n",
      "Give value for Height50\n"
     ]
    },
    {
     "data": {
      "text/plain": [
       "1000.0"
      ]
     },
     "execution_count": 22,
     "metadata": {},
     "output_type": "execute_result"
    }
   ],
   "source": [
    "AreaofTriangle()"
   ]
  },
  {
   "cell_type": "markdown",
   "id": "321d4aaa",
   "metadata": {},
   "source": [
    "## 4. Write a Python program to swap two variables?"
   ]
  },
  {
   "cell_type": "code",
   "execution_count": 12,
   "id": "f925562c",
   "metadata": {},
   "outputs": [],
   "source": [
    "def Swap():\n",
    "    x=input('Give var1')\n",
    "    y=input('Give var2')\n",
    "    z=x\n",
    "    x=y\n",
    "    y=z\n",
    "    print('Values after swapping ', x, y)"
   ]
  },
  {
   "cell_type": "code",
   "execution_count": 13,
   "id": "53630d61",
   "metadata": {},
   "outputs": [
    {
     "name": "stdout",
     "output_type": "stream",
     "text": [
      "Give var11\n",
      "Give var22\n",
      "Values after swapping  2 1\n"
     ]
    }
   ],
   "source": [
    "Swap()"
   ]
  },
  {
   "cell_type": "markdown",
   "id": "fcbbae43",
   "metadata": {},
   "source": [
    "## 5. Write a Python program to generate a random number?"
   ]
  },
  {
   "cell_type": "code",
   "execution_count": 11,
   "id": "0ca9d64b",
   "metadata": {},
   "outputs": [
    {
     "name": "stdout",
     "output_type": "stream",
     "text": [
      "Give the range 100\n",
      "69\n"
     ]
    }
   ],
   "source": [
    "import random\n",
    "a=int(input('Give the range '))\n",
    "x=random.randint(0,a)\n",
    "print(x)"
   ]
  },
  {
   "cell_type": "code",
   "execution_count": null,
   "id": "6597c8c9",
   "metadata": {},
   "outputs": [],
   "source": []
  }
 ],
 "metadata": {
  "kernelspec": {
   "display_name": "Python 3 (ipykernel)",
   "language": "python",
   "name": "python3"
  },
  "language_info": {
   "codemirror_mode": {
    "name": "ipython",
    "version": 3
   },
   "file_extension": ".py",
   "mimetype": "text/x-python",
   "name": "python",
   "nbconvert_exporter": "python",
   "pygments_lexer": "ipython3",
   "version": "3.9.7"
  }
 },
 "nbformat": 4,
 "nbformat_minor": 5
}
