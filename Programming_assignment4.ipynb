{
 "cells": [
  {
   "cell_type": "markdown",
   "id": "24dcdf3d",
   "metadata": {},
   "source": [
    "## 1. Write a Python Program to Find the Factorial of a Number?"
   ]
  },
  {
   "cell_type": "code",
   "execution_count": 42,
   "id": "3414bccb",
   "metadata": {},
   "outputs": [
    {
     "name": "stdout",
     "output_type": "stream",
     "text": [
      "Give num: 9\n",
      "362880\n"
     ]
    }
   ],
   "source": [
    "a=int(input('Give num: '))\n",
    "b=1\n",
    "fact=a\n",
    "while a>b:\n",
    "    fact=fact*(a-1)\n",
    "    a=a-1\n",
    "print(fact)"
   ]
  },
  {
   "cell_type": "markdown",
   "id": "87148f2f",
   "metadata": {},
   "source": [
    "## 2. Write a Python Program to Display the multiplication Table?"
   ]
  },
  {
   "cell_type": "code",
   "execution_count": 2,
   "id": "dec2e084",
   "metadata": {},
   "outputs": [
    {
     "name": "stdout",
     "output_type": "stream",
     "text": [
      "Give num3\n",
      "3 x 1 = 3\n",
      "3 x 2 = 6\n",
      "3 x 3 = 9\n",
      "3 x 4 = 12\n",
      "3 x 5 = 15\n",
      "3 x 6 = 18\n",
      "3 x 7 = 21\n",
      "3 x 8 = 24\n",
      "3 x 9 = 27\n",
      "3 x 10 = 30\n"
     ]
    }
   ],
   "source": [
    "a=1\n",
    "b=10\n",
    "num=int(input('Give num : '))\n",
    "while a<=b:\n",
    "    mult=num*a\n",
    "    print(num, 'x',a ,'=',mult)\n",
    "    a=a+1"
   ]
  },
  {
   "cell_type": "markdown",
   "id": "541e8685",
   "metadata": {},
   "source": [
    "## 3. Write a Python Program to Print the Fibonacci sequence?"
   ]
  },
  {
   "cell_type": "code",
   "execution_count": 12,
   "id": "561ae1f1",
   "metadata": {},
   "outputs": [
    {
     "name": "stdout",
     "output_type": "stream",
     "text": [
      "number7\n",
      "1\n",
      "1\n",
      "2\n",
      "3\n",
      "5\n",
      "8\n",
      "13\n"
     ]
    }
   ],
   "source": [
    "a=1\n",
    "b=int(input('number : '))\n",
    "n=0\n",
    "m=1\n",
    "print(m)\n",
    "while a<b:\n",
    "    fibb=n+m\n",
    "    n=m\n",
    "    m=fibb\n",
    "    a=a+1\n",
    "    print(m)"
   ]
  },
  {
   "cell_type": "markdown",
   "id": "3ee4a08c",
   "metadata": {},
   "source": [
    "## 4. Write a Python Program to Check Armstrong Number?"
   ]
  },
  {
   "cell_type": "code",
   "execution_count": 34,
   "id": "fba9c629",
   "metadata": {},
   "outputs": [
    {
     "name": "stdout",
     "output_type": "stream",
     "text": [
      "givenumbr54748\n",
      "num is armstrong\n"
     ]
    }
   ],
   "source": [
    "num=int(input('givenumbr: '))\n",
    "sumo=0\n",
    "for i in str(num):\n",
    "    n=int(i)\n",
    "    sumo=sumo+n**len(str(num))\n",
    "if sumo==num:\n",
    "    print('num is armstrong')\n",
    "else:\n",
    "    print('num is not armstrong')"
   ]
  },
  {
   "cell_type": "markdown",
   "id": "60f40fd6",
   "metadata": {},
   "source": [
    "## 5. Write a Python Program to Find Armstrong Number in an Interval?"
   ]
  },
  {
   "cell_type": "code",
   "execution_count": 39,
   "id": "ad8c7e77",
   "metadata": {},
   "outputs": [
    {
     "name": "stdout",
     "output_type": "stream",
     "text": [
      "give range10000\n",
      "0\n",
      "1\n",
      "2\n",
      "3\n",
      "4\n",
      "5\n",
      "6\n",
      "7\n",
      "8\n",
      "9\n",
      "153\n",
      "370\n",
      "371\n",
      "407\n",
      "1634\n",
      "8208\n",
      "9474\n"
     ]
    }
   ],
   "source": [
    "a=0\n",
    "num=int(input('give range : '))\n",
    "for num in range(a,num):\n",
    "    sumo=0\n",
    "    for i in str(num):\n",
    "        n=int(i)\n",
    "        sumo=sumo+n**len(str(num))\n",
    "    if sumo==num:\n",
    "        print(num)"
   ]
  },
  {
   "cell_type": "markdown",
   "id": "086d468e",
   "metadata": {},
   "source": [
    "## 6. Write a Python Program to Find the Sum of Natural Numbers?"
   ]
  },
  {
   "cell_type": "code",
   "execution_count": 40,
   "id": "44240ce9",
   "metadata": {},
   "outputs": [
    {
     "name": "stdout",
     "output_type": "stream",
     "text": [
      "10\n"
     ]
    }
   ],
   "source": [
    "a=4\n",
    "add=0\n",
    "for i in range(0,a+1):\n",
    "    add=add+i\n",
    "print(add)"
   ]
  },
  {
   "cell_type": "code",
   "execution_count": null,
   "id": "1f9ec197",
   "metadata": {},
   "outputs": [],
   "source": []
  }
 ],
 "metadata": {
  "kernelspec": {
   "display_name": "Python 3 (ipykernel)",
   "language": "python",
   "name": "python3"
  },
  "language_info": {
   "codemirror_mode": {
    "name": "ipython",
    "version": 3
   },
   "file_extension": ".py",
   "mimetype": "text/x-python",
   "name": "python",
   "nbconvert_exporter": "python",
   "pygments_lexer": "ipython3",
   "version": "3.9.7"
  }
 },
 "nbformat": 4,
 "nbformat_minor": 5
}
