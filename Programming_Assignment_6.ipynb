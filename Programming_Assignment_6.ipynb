{
 "cells": [
  {
   "cell_type": "markdown",
   "id": "e96e767f",
   "metadata": {},
   "source": [
    "## 1. Write a Python Program to Display Fibonacci Sequence Using Recursion?"
   ]
  },
  {
   "cell_type": "code",
   "execution_count": 1,
   "id": "872e4f26",
   "metadata": {},
   "outputs": [],
   "source": [
    "def fib(n):\n",
    "    if n>1:\n",
    "        fibb=fib(n-1)+fib(n-2)\n",
    "    elif n==1:\n",
    "        fibb=1\n",
    "    elif n==0:\n",
    "        fibb=0\n",
    "    return fibb\n"
   ]
  },
  {
   "cell_type": "code",
   "execution_count": 2,
   "id": "8342f112",
   "metadata": {},
   "outputs": [
    {
     "data": {
      "text/plain": [
       "55"
      ]
     },
     "execution_count": 2,
     "metadata": {},
     "output_type": "execute_result"
    }
   ],
   "source": [
    "fib(10)"
   ]
  },
  {
   "cell_type": "markdown",
   "id": "5cbc7425",
   "metadata": {},
   "source": [
    "## 2. Write a Python Program to Find Factorial of Number Using Recursion?"
   ]
  },
  {
   "cell_type": "code",
   "execution_count": 3,
   "id": "1ec6e9ec",
   "metadata": {},
   "outputs": [],
   "source": [
    "def fact(n):\n",
    "    if n>1:\n",
    "        factor=n*fact(n-1)\n",
    "    elif n==1:\n",
    "        factor=1\n",
    "    return factor"
   ]
  },
  {
   "cell_type": "code",
   "execution_count": 4,
   "id": "76c6e02a",
   "metadata": {},
   "outputs": [
    {
     "data": {
      "text/plain": [
       "120"
      ]
     },
     "execution_count": 4,
     "metadata": {},
     "output_type": "execute_result"
    }
   ],
   "source": [
    "fact(5)"
   ]
  },
  {
   "cell_type": "markdown",
   "id": "c6ed1b50",
   "metadata": {},
   "source": [
    "## 3. Write a Python Program to calculate your Body Mass Index?"
   ]
  },
  {
   "cell_type": "code",
   "execution_count": 10,
   "id": "4df9f3b9",
   "metadata": {},
   "outputs": [],
   "source": [
    "def BMI():\n",
    "    ht=float(input(\"Give height in meters : \"))\n",
    "    wt=float(input(\"Give weight in kgs : \"))\n",
    "    bmi=wt/(ht**2)\n",
    "    return (round(bmi,2))"
   ]
  },
  {
   "cell_type": "code",
   "execution_count": 11,
   "id": "c93b171f",
   "metadata": {},
   "outputs": [
    {
     "name": "stdout",
     "output_type": "stream",
     "text": [
      "Give height in meters : 1.54\n",
      "Give weight in kgs : 54.2\n"
     ]
    },
    {
     "data": {
      "text/plain": [
       "22.85"
      ]
     },
     "execution_count": 11,
     "metadata": {},
     "output_type": "execute_result"
    }
   ],
   "source": [
    "BMI()"
   ]
  },
  {
   "cell_type": "markdown",
   "id": "7da34f9e",
   "metadata": {},
   "source": [
    "## 4. Write a Python Program to calculate the natural logarithm of any number?"
   ]
  },
  {
   "cell_type": "code",
   "execution_count": 12,
   "id": "0985d82a",
   "metadata": {},
   "outputs": [],
   "source": [
    "import math\n",
    "def loga(n):\n",
    "    loga=math.log10(n)\n",
    "    return loga"
   ]
  },
  {
   "cell_type": "code",
   "execution_count": 14,
   "id": "82eda31a",
   "metadata": {},
   "outputs": [
    {
     "data": {
      "text/plain": [
       "2.3010299956639813"
      ]
     },
     "execution_count": 14,
     "metadata": {},
     "output_type": "execute_result"
    }
   ],
   "source": [
    "loga(200)"
   ]
  },
  {
   "cell_type": "markdown",
   "id": "1765b6fb",
   "metadata": {},
   "source": [
    "## 5. Write a Python Program for cube sum of first n natural numbers?"
   ]
  },
  {
   "cell_type": "code",
   "execution_count": 15,
   "id": "87cd121d",
   "metadata": {},
   "outputs": [],
   "source": [
    "\n",
    "def cubesum(n):\n",
    "    sumo=0\n",
    "    for i in range(0,n+1):\n",
    "        sumo=sumo+i**3\n",
    "    return sumo"
   ]
  },
  {
   "cell_type": "code",
   "execution_count": 18,
   "id": "e137c076",
   "metadata": {},
   "outputs": [
    {
     "data": {
      "text/plain": [
       "225"
      ]
     },
     "execution_count": 18,
     "metadata": {},
     "output_type": "execute_result"
    }
   ],
   "source": [
    "cubesum(5)"
   ]
  },
  {
   "cell_type": "code",
   "execution_count": null,
   "id": "3ba953c4",
   "metadata": {},
   "outputs": [],
   "source": []
  }
 ],
 "metadata": {
  "kernelspec": {
   "display_name": "Python 3 (ipykernel)",
   "language": "python",
   "name": "python3"
  },
  "language_info": {
   "codemirror_mode": {
    "name": "ipython",
    "version": 3
   },
   "file_extension": ".py",
   "mimetype": "text/x-python",
   "name": "python",
   "nbconvert_exporter": "python",
   "pygments_lexer": "ipython3",
   "version": "3.9.7"
  }
 },
 "nbformat": 4,
 "nbformat_minor": 5
}
